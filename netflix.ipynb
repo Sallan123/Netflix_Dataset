{
  "cells": [
    {
      "cell_type": "code",
      "execution_count": 1,
      "metadata": {},
      "outputs": [],
      "source": [
        "import networkx as nx\n",
        "import streamlit as st\n",
        "import matplotlib as plt\n",
        "import seaborn as sns"
      ]
    },
    {
      "cell_type": "code",
      "execution_count": 2,
      "metadata": {},
      "outputs": [],
      "source": [
        "import pandas as pd\n",
        "import numpy as np\n",
        "import plotly.express as px"
      ]
    },
    {
      "cell_type": "code",
      "execution_count": 3,
      "metadata": {},
      "outputs": [],
      "source": [
        "# Load dataset\n",
        "netflix = pd.read_csv('netflix_titles_2021.csv')\n",
        "# Data Cleaning & Handling Missing Values\n",
        "netflix.drop_duplicates(inplace=True)\n",
        "netflix.dropna(subset=['release_year', 'type', 'listed_in'], inplace=True)\n",
        "netflix['date_added'] = pd.to_datetime(netflix['date_added'], format='mixed', errors='coerce')\n",
        "# Feature Engineering\n",
        "netflix['year_added'] = netflix['date_added'].dt.year\n",
        "netflix['month_added'] = netflix['date_added'].dt.month\n",
        "# Create Movie Duration Ranges\n",
        "bins = [0, 60, 120, np.inf]\n",
        "labels = ['Short', 'Medium', 'Long']\n",
        "netflix.loc[netflix['duration'].str.contains('min', na=False), 'duration'] = netflix['duration'].str.replace(' min', '')\n",
        "netflix['duration'] = pd.to_numeric(netflix['duration'], errors='coerce')\n",
        "netflix['duration_category'] = pd.cut(netflix['duration'], bins=bins, labels=labels)\n",
        "# Identify Top 10 Directors\n",
        "top_directors = netflix['director'].value_counts().head(10)\n",
        "# Set seaborn style\n",
        "sns.set(style='darkgrid', palette='muted', rc={'figure.figsize':(10,6)})"
      ]
    },
    {
      "cell_type": "code",
      "execution_count": 4,
      "metadata": {},
      "outputs": [],
      "source": [
        "# Interactive Time Series Analysis\n",
        "fig_time_series = px.line(netflix.groupby('year_added').size().reset_index(), x='year_added', y=0, title='Trend of Netflix Content Over Time')\n",
        "fig_time_series.update_layout(xaxis_title='Year Added', yaxis_title='Number of Titles')\n",
        "# Geo Map for Country-wise Content\n",
        "country_counts = netflix['country'].value_counts().reset_index()\n",
        "country_counts.columns = ['Country', 'Count']\n",
        "fig_geo = px.choropleth(country_counts, locations='Country', locationmode='country names', color='Count', title='Content Distribution Across Countries')"
      ]
    }
  ],
  "metadata": {
    "kernelspec": {
      "display_name": "Python 3",
      "language": "python",
      "name": "python3"
    },
    "language_info": {
      "codemirror_mode": {
        "name": "ipython",
        "version": 3
      },
      "file_extension": ".py",
      "mimetype": "text/x-python",
      "name": "python",
      "nbconvert_exporter": "python",
      "pygments_lexer": "ipython3",
      "version": "3.13.2"
    }
  },
  "nbformat": 4,
  "nbformat_minor": 2
}
